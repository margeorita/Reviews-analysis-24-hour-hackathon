{
 "cells": [
  {
   "cell_type": "markdown",
   "id": "b6be56d1",
   "metadata": {},
   "source": [
    "## LoyaltyOne 24-hour Hackathon"
   ]
  },
  {
   "cell_type": "markdown",
   "id": "59b19e8f",
   "metadata": {},
   "source": [
    "*Author*: Margarita Popova <br>\n",
    "*Contact*: margeorita@gmail.com"
   ]
  },
  {
   "cell_type": "markdown",
   "id": "858495ef",
   "metadata": {},
   "source": [
    " [Introduction](#Introduction)\n",
    "\n",
    "1. [Data wrangling](#Data-wrangling)\n",
    "2. [Exploratory analysis](#Exploratory-analysis)\n",
    "3. [Data Wrangling](#Data-Wrangling)\n",
    "4. [Split the Data into Train and Test Set](#Split-the-Data-into-Train-and-Test-Set)\n",
    "5. [Vectorization of Text Data](#Vectorization-of-Text-Data)"
   ]
  },
  {
   "cell_type": "markdown",
   "id": "7c1e5fb8",
   "metadata": {},
   "source": [
    "#### Introduction"
   ]
  },
  {
   "cell_type": "markdown",
   "id": "9479df22",
   "metadata": {},
   "source": [
    "The following notebook was created during a 24-hour collaborative tech sprint for BrainStation students to create digital solutions for BrainStations' Industry Partner - LoyaltyOne."
   ]
  },
  {
   "cell_type": "markdown",
   "id": "fb3a3d3d",
   "metadata": {},
   "source": [
    "Over an intensive period of brainstorming, discussion and iteration, with check-ins from the BrainStation team, our\n",
    "multidisciplinary team has created a digital solution designed to increase program adoption with Millennials and\n",
    "Gen Z.\n"
   ]
  },
  {
   "cell_type": "markdown",
   "id": "7c0bfca5",
   "metadata": {},
   "source": [
    "Team consisted of:\n",
    " - 1 Data Scientist - Margarita Popova, author of the current analysis\n",
    " - 2 UX Designers - Malu Bongestab, Ines Aliu\n",
    " - 2 Web Developers - Ruoxin He, Kim Cang Ho\n",
    " - 1 Project Manager - Pranav"
   ]
  },
  {
   "cell_type": "markdown",
   "id": "2088d9de",
   "metadata": {},
   "source": [
    "Our solution included an analysis of the current LoyaltyOne application to detect the existing issues. I decided to download some LoyaltyOne application users' reviews from App Store to highlight which what issues users faced. For that kind of analysis, Natural Language Processing (NLP) techniques were used."
   ]
  },
  {
   "cell_type": "markdown",
   "id": "96d6fe94",
   "metadata": {},
   "source": [
    "#### Data wrangling"
   ]
  },
  {
   "cell_type": "markdown",
   "id": "c4a38b40",
   "metadata": {},
   "source": [
    "To perform NLP analysis from App Store  101 random LoyaltyOne app reviews were downloaded. These reviews were organized as a small csv-database with 4 fields:\n",
    " - `oid` - unique id, ordinal number\n",
    " - `positive` - positive reviews with a score higher than 3\n",
    " - `negative` - negative reviews with a score lower than 3\n",
    " - `score` - the number of stars which were left by a user"
   ]
  },
  {
   "cell_type": "markdown",
   "id": "ea3d2a1b",
   "metadata": {},
   "source": [
    "The csv-file is attached."
   ]
  },
  {
   "cell_type": "markdown",
   "id": "72c61a5f",
   "metadata": {},
   "source": [
    "Let's import the necessary libraries for NLP analysis."
   ]
  },
  {
   "cell_type": "code",
   "execution_count": 1,
   "id": "af331f65",
   "metadata": {},
   "outputs": [],
   "source": [
    "#import necessary Python libraries\n",
    "import numpy as np\n",
    "import pandas as pd\n",
    "import matplotlib.pyplot as plt\n",
    "\n",
    "from sklearn.feature_extraction.text import CountVectorizer\n",
    "from sklearn.model_selection import train_test_split\n",
    "from sklearn.linear_model import LogisticRegression\n",
    "import nltk"
   ]
  },
  {
   "cell_type": "markdown",
   "id": "677a7d2c",
   "metadata": {},
   "source": [
    "Now we can open the database and check some strings."
   ]
  },
  {
   "cell_type": "code",
   "execution_count": 28,
   "id": "69e4d720",
   "metadata": {
    "scrolled": false
   },
   "outputs": [
    {
     "data": {
      "text/html": [
       "<div>\n",
       "<style scoped>\n",
       "    .dataframe tbody tr th:only-of-type {\n",
       "        vertical-align: middle;\n",
       "    }\n",
       "\n",
       "    .dataframe tbody tr th {\n",
       "        vertical-align: top;\n",
       "    }\n",
       "\n",
       "    .dataframe thead th {\n",
       "        text-align: right;\n",
       "    }\n",
       "</style>\n",
       "<table border=\"1\" class=\"dataframe\">\n",
       "  <thead>\n",
       "    <tr style=\"text-align: right;\">\n",
       "      <th></th>\n",
       "      <th>positive</th>\n",
       "      <th>negative</th>\n",
       "      <th>score</th>\n",
       "    </tr>\n",
       "    <tr>\n",
       "      <th>oid</th>\n",
       "      <th></th>\n",
       "      <th></th>\n",
       "      <th></th>\n",
       "    </tr>\n",
       "  </thead>\n",
       "  <tbody>\n",
       "    <tr>\n",
       "      <th>1</th>\n",
       "      <td>It is good that there is AIR MILES REWARDS PRO...</td>\n",
       "      <td>no negative</td>\n",
       "      <td>5</td>\n",
       "    </tr>\n",
       "    <tr>\n",
       "      <th>2</th>\n",
       "      <td>2nd UPDATE: Uninstalled and reinstalled the ap...</td>\n",
       "      <td>no negative</td>\n",
       "      <td>4</td>\n",
       "    </tr>\n",
       "    <tr>\n",
       "      <th>3</th>\n",
       "      <td>no positive</td>\n",
       "      <td>There was absolutely nothing wrong with the pr...</td>\n",
       "      <td>1</td>\n",
       "    </tr>\n",
       "  </tbody>\n",
       "</table>\n",
       "</div>"
      ],
      "text/plain": [
       "                                              positive  \\\n",
       "oid                                                      \n",
       "1    It is good that there is AIR MILES REWARDS PRO...   \n",
       "2    2nd UPDATE: Uninstalled and reinstalled the ap...   \n",
       "3                                          no positive   \n",
       "\n",
       "                                              negative  score  \n",
       "oid                                                            \n",
       "1                                          no negative      5  \n",
       "2                                          no negative      4  \n",
       "3    There was absolutely nothing wrong with the pr...      1  "
      ]
     },
     "execution_count": 28,
     "metadata": {},
     "output_type": "execute_result"
    }
   ],
   "source": [
    "#open csv-file\n",
    "lo_df = pd.read_csv(\"LoyaltyOne_review.csv\", encoding= 'unicode_escape', index_col=0)\n",
    "#look at 3 first rows\n",
    "lo_df.head(3)"
   ]
  },
  {
   "cell_type": "markdown",
   "id": "d56678d2",
   "metadata": {},
   "source": [
    "Note the field `positive` contains the value `no positive` in some strings and the field `negative` contains the values `no negative`. These phrase-fillers were created to avoid missing values. We can not perform NLP using a database with missing values."
   ]
  },
  {
   "cell_type": "code",
   "execution_count": 29,
   "id": "4eecc1be",
   "metadata": {
    "scrolled": true
   },
   "outputs": [
    {
     "name": "stdout",
     "output_type": "stream",
     "text": [
      "<class 'pandas.core.frame.DataFrame'>\n",
      "Int64Index: 101 entries, 1 to 100\n",
      "Data columns (total 3 columns):\n",
      " #   Column    Non-Null Count  Dtype \n",
      "---  ------    --------------  ----- \n",
      " 0   positive  101 non-null    object\n",
      " 1   negative  101 non-null    object\n",
      " 2   score     101 non-null    int64 \n",
      "dtypes: int64(1), object(2)\n",
      "memory usage: 3.2+ KB\n"
     ]
    }
   ],
   "source": [
    "#sanity check of data format in the fields\n",
    "lo_df.info()"
   ]
  },
  {
   "cell_type": "code",
   "execution_count": 32,
   "id": "2c0e99ce",
   "metadata": {},
   "outputs": [
    {
     "name": "stdout",
     "output_type": "stream",
     "text": [
      "The datset contains 3 columns and 101 rows.\n"
     ]
    }
   ],
   "source": [
    "#check the shape of the dataset\n",
    "lo_df.shape\n",
    "print(f'The datset contains {lo_df.shape[1]} columns and {lo_df.shape[0]} rows.')"
   ]
  },
  {
   "cell_type": "code",
   "execution_count": 23,
   "id": "d4936165",
   "metadata": {},
   "outputs": [
    {
     "data": {
      "text/plain": [
       "positive    0\n",
       "negative    0\n",
       "score       0\n",
       "dtype: int64"
      ]
     },
     "execution_count": 23,
     "metadata": {},
     "output_type": "execute_result"
    }
   ],
   "source": [
    "#sanity check of missing values\n",
    "lo_df.isna().sum()"
   ]
  },
  {
   "cell_type": "markdown",
   "id": "5922aca0",
   "metadata": {},
   "source": [
    "#### Exploratory analysis"
   ]
  },
  {
   "cell_type": "markdown",
   "id": "1f8cc1e2",
   "metadata": {},
   "source": [
    "Let's check the distribution of user scores in the dataset."
   ]
  },
  {
   "cell_type": "code",
   "execution_count": 24,
   "id": "c41cebe9",
   "metadata": {},
   "outputs": [
    {
     "data": {
      "text/plain": [
       "score\n",
       "1    55\n",
       "2    14\n",
       "3    13\n",
       "4    12\n",
       "5     7\n",
       "Name: score, dtype: int64"
      ]
     },
     "execution_count": 24,
     "metadata": {},
     "output_type": "execute_result"
    }
   ],
   "source": [
    "#group by scores\n",
    "lo_df.groupby(by='score')['score'].count()"
   ]
  },
  {
   "cell_type": "code",
   "execution_count": 25,
   "id": "c85c4463",
   "metadata": {},
   "outputs": [
    {
     "data": {
      "image/png": "[encoded data removed]",
      "text/plain": [
       "<Figure size 576x432 with 1 Axes>"
      ]
     },
     "metadata": {
      "needs_background": "light"
     },
     "output_type": "display_data"
    }
   ],
   "source": [
    "#plot the distribution of the scores\n",
    "plt.figure(figsize=(8,6))\n",
    "\n",
    "lo_df.groupby(by='score')['score'].count().plot(kind='bar', color = '#7ED9E7')\n",
    "plt.xticks(rotation=0)\n",
    "plt.ylabel('Number of review')\n",
    "plt.title('Distribution of LoyaltyOne scores on App Store')\n",
    "\n",
    "plt.show()"
   ]
  },
  {
   "cell_type": "markdown",
   "id": "f234ff6b",
   "metadata": {},
   "source": [
    "As we can see in the plot, the majority of the scores were negative:\n",
    " - 55 reviews with 1 star\n",
    " - 14 reviews with 2 stars\n",
    " - 13 reviews with 3 stars\n",
    " - 12 reviews with 4 stars\n",
    " - 7 reviews with 5 stars"
   ]
  },
  {
   "cell_type": "markdown",
   "id": "3affb43b",
   "metadata": {},
   "source": [
    "To make the analysis easier we should binarize scores. Let's set the scores greater than 3 as 1 - `good` and scores less than 3 as 0 - `not good`. We count 3 as `good` to compensate for a little bit huge imbalance between positive and negative scores."
   ]
  },
  {
   "cell_type": "code",
   "execution_count": 26,
   "id": "d79bba57",
   "metadata": {},
   "outputs": [],
   "source": [
    "#turn the scores greater than 3 in 1, others in 0\n",
    "lo_df['score'] = np.where(lo_df['score'] >= 3, 1, 0)"
   ]
  },
  {
   "cell_type": "code",
   "execution_count": 27,
   "id": "c85c0e3c",
   "metadata": {
    "scrolled": true
   },
   "outputs": [
    {
     "data": {
      "text/plain": [
       "score\n",
       "0    69\n",
       "1    32\n",
       "Name: score, dtype: int64"
      ]
     },
     "execution_count": 27,
     "metadata": {},
     "output_type": "execute_result"
    }
   ],
   "source": [
    "#count the distribution of the scores\n",
    "lo_df.groupby(by='score')['score'].count()"
   ]
  },
  {
   "cell_type": "markdown",
   "id": "dd33e15e",
   "metadata": {},
   "source": [
    "Now we have 69 of negative scores and 32 of positive. Let's plot it."
   ]
  },
  {
   "cell_type": "code",
   "execution_count": 16,
   "id": "aa1ca256",
   "metadata": {
    "scrolled": false
   },
   "outputs": [
    {
     "data": {
      "image/png": "[encoded data removed]",
      "text/plain": [
       "<Figure size 576x432 with 1 Axes>"
      ]
     },
     "metadata": {
      "needs_background": "light"
     },
     "output_type": "display_data"
    }
   ],
   "source": [
    "#plot the distribution of the binarized scores\n",
    "plt.figure(figsize=(8,6))\n",
    "\n",
    "lo_df.groupby(by='score')['score'].count().plot(kind='bar', color = '#7ED9E7')\n",
    "plt.xticks(rotation=0)\n",
    "plt.ylabel('Number of review')\n",
    "plt.title('Distribution of LoyaltyOne scores on App Store')\n",
    "\n",
    "plt.show()"
   ]
  },
  {
   "cell_type": "markdown",
   "id": "8efad465",
   "metadata": {},
   "source": [
    "#### Split the Data into Train and Test Set"
   ]
  },
  {
   "cell_type": "markdown",
   "id": "f1ca042f",
   "metadata": {},
   "source": [
    "Before we start to vectorize data in columns with users reviews we should split the dataset into train and test subsets."
   ]
  },
  {
   "cell_type": "markdown",
   "id": "6474d068",
   "metadata": {},
   "source": [
    "Positive and Negative reviews become the X and the Users Score column becomes the y, because scores depend on the emotional tones of reviews."
   ]
  },
  {
   "cell_type": "code",
   "execution_count": 33,
   "id": "cc714d34",
   "metadata": {},
   "outputs": [],
   "source": [
    "# store data in X and y\n",
    "X = lo_df[['negative', 'positive']]\n",
    "y = lo_df['score']"
   ]
  },
  {
   "cell_type": "markdown",
   "id": "e673229e",
   "metadata": {},
   "source": [
    "Split dataset into train and test subset with ratio 0.7-train subset / 0.3-test subset."
   ]
  },
  {
   "cell_type": "code",
   "execution_count": 34,
   "id": "211824ec",
   "metadata": {},
   "outputs": [],
   "source": [
    "# splitting our data into train and test sets\n",
    "X_train, X_test, y_train, y_test = train_test_split(X, y, test_size=0.3, random_state=42, stratify=y)"
   ]
  },
  {
   "cell_type": "code",
   "execution_count": 35,
   "id": "df4b61c1",
   "metadata": {},
   "outputs": [
    {
     "data": {
      "text/plain": [
       "((70, 2), (31, 2), (70,), (31,))"
      ]
     },
     "execution_count": 35,
     "metadata": {},
     "output_type": "execute_result"
    }
   ],
   "source": [
    "#check shape of subsets\n",
    "X_train.shape, X_test.shape, y_train.shape, y_test.shape"
   ]
  },
  {
   "cell_type": "code",
   "execution_count": 37,
   "id": "1817678f",
   "metadata": {},
   "outputs": [
    {
     "data": {
      "text/html": [
       "<div>\n",
       "<style scoped>\n",
       "    .dataframe tbody tr th:only-of-type {\n",
       "        vertical-align: middle;\n",
       "    }\n",
       "\n",
       "    .dataframe tbody tr th {\n",
       "        vertical-align: top;\n",
       "    }\n",
       "\n",
       "    .dataframe thead th {\n",
       "        text-align: right;\n",
       "    }\n",
       "</style>\n",
       "<table border=\"1\" class=\"dataframe\">\n",
       "  <thead>\n",
       "    <tr style=\"text-align: right;\">\n",
       "      <th></th>\n",
       "      <th>positive</th>\n",
       "    </tr>\n",
       "    <tr>\n",
       "      <th>oid</th>\n",
       "      <th></th>\n",
       "    </tr>\n",
       "  </thead>\n",
       "  <tbody>\n",
       "    <tr>\n",
       "      <th>34</th>\n",
       "      <td>no positive</td>\n",
       "    </tr>\n",
       "    <tr>\n",
       "      <th>75</th>\n",
       "      <td>I have always liked the air miles program as i...</td>\n",
       "    </tr>\n",
       "    <tr>\n",
       "      <th>71</th>\n",
       "      <td>no positive</td>\n",
       "    </tr>\n",
       "    <tr>\n",
       "      <th>55</th>\n",
       "      <td>Love being an Airmiles collector been doing it...</td>\n",
       "    </tr>\n",
       "    <tr>\n",
       "      <th>80</th>\n",
       "      <td>no positive</td>\n",
       "    </tr>\n",
       "    <tr>\n",
       "      <th>58</th>\n",
       "      <td>no positive</td>\n",
       "    </tr>\n",
       "    <tr>\n",
       "      <th>92</th>\n",
       "      <td>no positive</td>\n",
       "    </tr>\n",
       "  </tbody>\n",
       "</table>\n",
       "</div>"
      ],
      "text/plain": [
       "                                              positive\n",
       "oid                                                   \n",
       "34                                         no positive\n",
       "75   I have always liked the air miles program as i...\n",
       "71                                         no positive\n",
       "55   Love being an Airmiles collector been doing it...\n",
       "80                                         no positive\n",
       "58                                         no positive\n",
       "92                                         no positive"
      ]
     },
     "execution_count": 37,
     "metadata": {},
     "output_type": "execute_result"
    }
   ],
   "source": [
    "#look at some positive rewiews\n",
    "X_train[['positive']].sample(7)"
   ]
  },
  {
   "cell_type": "code",
   "execution_count": 38,
   "id": "1baddac1",
   "metadata": {
    "scrolled": false
   },
   "outputs": [
    {
     "data": {
      "text/html": [
       "<div>\n",
       "<style scoped>\n",
       "    .dataframe tbody tr th:only-of-type {\n",
       "        vertical-align: middle;\n",
       "    }\n",
       "\n",
       "    .dataframe tbody tr th {\n",
       "        vertical-align: top;\n",
       "    }\n",
       "\n",
       "    .dataframe thead th {\n",
       "        text-align: right;\n",
       "    }\n",
       "</style>\n",
       "<table border=\"1\" class=\"dataframe\">\n",
       "  <thead>\n",
       "    <tr style=\"text-align: right;\">\n",
       "      <th></th>\n",
       "      <th>negative</th>\n",
       "    </tr>\n",
       "    <tr>\n",
       "      <th>oid</th>\n",
       "      <th></th>\n",
       "    </tr>\n",
       "  </thead>\n",
       "  <tbody>\n",
       "    <tr>\n",
       "      <th>72</th>\n",
       "      <td>Not what it was, the amount of money to spend ...</td>\n",
       "    </tr>\n",
       "    <tr>\n",
       "      <th>49</th>\n",
       "      <td>The phone lines to book a rental car are only ...</td>\n",
       "    </tr>\n",
       "    <tr>\n",
       "      <th>57</th>\n",
       "      <td>After signing in, app only displays digital AM...</td>\n",
       "    </tr>\n",
       "    <tr>\n",
       "      <th>92</th>\n",
       "      <td>Tried to use it for the first time, and it say...</td>\n",
       "    </tr>\n",
       "    <tr>\n",
       "      <th>42</th>\n",
       "      <td>t won't let me play carousel of dreams..keeps ...</td>\n",
       "    </tr>\n",
       "    <tr>\n",
       "      <th>86</th>\n",
       "      <td>no negative</td>\n",
       "    </tr>\n",
       "    <tr>\n",
       "      <th>37</th>\n",
       "      <td>Not very user friendly, customer service is li...</td>\n",
       "    </tr>\n",
       "  </tbody>\n",
       "</table>\n",
       "</div>"
      ],
      "text/plain": [
       "                                              negative\n",
       "oid                                                   \n",
       "72   Not what it was, the amount of money to spend ...\n",
       "49   The phone lines to book a rental car are only ...\n",
       "57   After signing in, app only displays digital AM...\n",
       "92   Tried to use it for the first time, and it say...\n",
       "42   t won't let me play carousel of dreams..keeps ...\n",
       "86                                         no negative\n",
       "37   Not very user friendly, customer service is li..."
      ]
     },
     "execution_count": 38,
     "metadata": {},
     "output_type": "execute_result"
    }
   ],
   "source": [
    "#look at some negative rewiews\n",
    "X_train[['negative']].sample(7)"
   ]
  },
  {
   "cell_type": "markdown",
   "id": "3bc4f8fe",
   "metadata": {},
   "source": [
    "#### Vectorization of Text Data"
   ]
  },
  {
   "cell_type": "markdown",
   "id": "09c5d812",
   "metadata": {},
   "source": [
    "In order to find issues that users are experiencing, we must create a sparse matrix of word tokens for negative reviews. \n",
    "To detect the issues we will estimate the words which occur frequently in the reviews with negative scores."
   ]
  },
  {
   "cell_type": "markdown",
   "id": "a644305a",
   "metadata": {},
   "source": [
    "Obviously that the most frequent words will be prepositions, articles and pronouns, so we should exclude them from the analysis. We can set stop-words equal to 'English' to avoid articles, pronouns and prepositions."
   ]
  },
  {
   "cell_type": "markdown",
   "id": "3d5731c1",
   "metadata": {},
   "source": [
    "Also, we will include in the stop-words fillers - `no negative` and `no positive` and meaningless words such as `app`, and the name of the app - `air miles`"
   ]
  },
  {
   "cell_type": "markdown",
   "id": "633eab16",
   "metadata": {},
   "source": [
    "First, let's create a list of meaningless words and numbers."
   ]
  },
  {
   "cell_type": "code",
   "execution_count": 116,
   "id": "4ffa79a3",
   "metadata": {},
   "outputs": [],
   "source": [
    "#create custom list of words\n",
    "custom_list = ['no', 'negative', 'positive', 'app', 'miles', 'air', 'issue','airmiles','10', '1000', '120', '13', '130', '14', '150', '20', '247',\n",
    "       '24hrs', '28th', '2nd', '30', '40w', '42', '4th', '700', '7nable',\n",
    "       '90', '9000']"
   ]
  },
  {
   "cell_type": "markdown",
   "id": "3802bcee",
   "metadata": {},
   "source": [
    "Now we should add that list to the existing corpus with prepositions, articles and pronouns."
   ]
  },
  {
   "cell_type": "code",
   "execution_count": 117,
   "id": "8f74df82",
   "metadata": {},
   "outputs": [],
   "source": [
    "#expand 'english' stop-words with custom_list\n",
    "my_stopwords = nltk.corpus.stopwords.words('english')\n",
    "my_stopwords.extend(custom_list)"
   ]
  },
  {
   "cell_type": "markdown",
   "id": "ed84c253",
   "metadata": {},
   "source": [
    "Using the extended list of stop-words we can vectorize our reviews."
   ]
  },
  {
   "cell_type": "code",
   "execution_count": 118,
   "id": "62d3025a",
   "metadata": {},
   "outputs": [],
   "source": [
    "# Instantiate CountVectorizer with stop_words\n",
    "bagofwords = CountVectorizer(stop_words=my_stopwords)"
   ]
  },
  {
   "cell_type": "code",
   "execution_count": 119,
   "id": "e05b693a",
   "metadata": {},
   "outputs": [
    {
     "data": {
      "text/plain": [
       "array(['abandoning', 'ability', 'able', 'absolutely', 'accept',\n",
       "       'acceptable', 'access', 'account', 'acct', 'accumulate',\n",
       "       'accumulation', 'act', 'actual', 'actually', 'added', 'addresses',\n",
       "       'advertising', 'advising', 'aeroplan', 'afford', 'agents', 'ago',\n",
       "       'ahould', 'airlines', 'allowed', 'almost', 'alot', 'also',\n",
       "       'altenivtive', 'always', 'amd', 'amount', 'android', 'annoying',\n",
       "       'another', 'answer', 'answers', 'anymore', 'ap', 'apple',\n",
       "       'applied', 'area', 'around', 'ask', 'asked', 'asking', 'asks',\n",
       "       'associated', 'attempts', 'autoload', 'available', 'away', 'back',\n",
       "       'bad', 'bag', 'balance', 'banner', 'bar', 'barcode', 'beer',\n",
       "       'behind', 'benefit', 'better', 'biggest', 'block', 'bmo', 'book',\n",
       "       'brands', 'bright', 'brightness', 'broke', 'buck', 'bugs', 'bulb',\n",
       "       'bulk', 'burnt', 'button', 'buy', 'buying', 'bypass', 'cache',\n",
       "       'call', 'canada', 'canadian', 'cancels', 'cannot', 'cant', 'cap',\n",
       "       'car', 'card', 'cards', 'carousel', 'carrousel', 'carry', 'cash',\n",
       "       'cashier', 'categories', 'cbi', 'chance', 'change', 'changed',\n",
       "       'chat', 'check', 'checking', 'clame', 'clear', 'clearing',\n",
       "       'clearly', 'clears', 'click', 'closed', 'closing', 'code',\n",
       "       'collect', 'collecting', 'collector', 'colour', 'comes',\n",
       "       'comments', 'companies', 'company', 'complaint', 'completely',\n",
       "       'consideration', 'considering', 'consistently', 'constantly',\n",
       "       'contact', 'contest', 'continue', 'convenient', 'convert', 'cost',\n",
       "       'could', 'coupon', 'coupons', 'crashing', 'credit', 'csr',\n",
       "       'current', 'currently', 'customer', 'customers', 'cutting',\n",
       "       'daily', 'damn', 'data', 'date', 'dated', 'day', 'days', 'deal',\n",
       "       'debacle', 'decades', 'decent', 'defeats', 'delay', 'delete',\n",
       "       'deleted', 'deleting', 'designed', 'designers', 'despite',\n",
       "       'developers', 'difficult', 'digital', 'digits', 'direct',\n",
       "       'disappointed', 'disconnect', 'display', 'displays', 'disturbed',\n",
       "       'dollar', 'done', 'dormant', 'downhill', 'download', 'downloaded',\n",
       "       'downloading', 'dream', 'dreams', 'drinks', 'dropped', 'dropping',\n",
       "       'due', 'dumping', 'earned', 'edit', 'else', 'email', 'emails',\n",
       "       'empty', 'enough', 'enter', 'entering', 'equals', 'especially',\n",
       "       'etc', 'europe', 'even', 'every', 'everyone', 'everything', 'ex',\n",
       "       'exactly', 'execution', 'exercise', 'expensive', 'experience',\n",
       "       'failure', 'false', 'faq', 'far', 'favour', 'fbi', 'feature',\n",
       "       'fees', 'find', 'fine', 'finished', 'first', 'fix', 'fixed',\n",
       "       'fixing', 'forced', 'forces', 'forcing', 'free', 'friendly',\n",
       "       'frills', 'frustrating', 'functionality', 'functions', 'future',\n",
       "       'gas', 'generally', 'generation', 'get', 'gets', 'getting', 'give',\n",
       "       'gives', 'go', 'gone', 'good', 'google', 'got', 'great', 'guys',\n",
       "       'habits', 'half', 'hand', 'happening', 'happens', 'hard', 'help',\n",
       "       'helpful', 'high', 'higher', 'hiring', 'hokding', 'hold', 'home',\n",
       "       'hopeful', 'hour', 'hours', 'hrs', 'id', 'im', 'image',\n",
       "       'impressed', 'incompetent', 'increasingly', 'individual', 'info',\n",
       "       'information', 'install', 'installed', 'interest', 'joke', 'junk',\n",
       "       'keep', 'keeps', 'kind', 'kinda', 'lack', 'large', 'last',\n",
       "       'lastest', 'lately', 'later', 'latest', 'leave', 'leaving', 'led',\n",
       "       'left', 'let', 'level', 'lifetimes', 'light', 'ligor', 'like',\n",
       "       'limited', 'line', 'lines', 'linked', 'links', 'list', 'little',\n",
       "       'live', 'load', 'loaded', 'locked', 'log', 'logged', 'login',\n",
       "       'logs', 'lol', 'long', 'longer', 'look', 'looking', 'lose',\n",
       "       'losing', 'lossing', 'lost', 'lots', 'love', 'made', 'main',\n",
       "       'make', 'managed', 'mandatory', 'many', 'maximize', 'maximum',\n",
       "       'may', 'maybe', 'means', 'membership', 'mentioned', 'menu',\n",
       "       'merchandise', 'merchant', 'message', 'metro', 'mile', 'million',\n",
       "       'mind', 'minimum', 'misc', 'missing', 'mistake', 'mobile',\n",
       "       'moment', 'money', 'months', 'moving', 'much', 'need', 'needs',\n",
       "       'never', 'new', 'next', 'nice', 'normally', 'noted', 'nothing',\n",
       "       'notice', 'notification', 'notifications', 'november', 'nowhere',\n",
       "       'nt', 'number', 'october', 'odd', 'offer', 'offers', 'old', 'one',\n",
       "       'online', 'onyx', 'open', 'opened', 'operator', 'optimum',\n",
       "       'option', 'order', 'orders', 'organization', 'os', 'others',\n",
       "       'overall', 'owned', 'package', 'pain', 'part', 'partner',\n",
       "       'password', 'past', 'pc', 'people', 'per', 'period', 'person',\n",
       "       'petty', 'phisical', 'phone', 'pin', 'place', 'planet', 'play',\n",
       "       'please', 'plus', 'point', 'points', 'poor', 'poorly', 'popped',\n",
       "       'popping', 'pr', 'preferences', 'preferred', 'pretty', 'previous',\n",
       "       'previously', 'price', 'prices', 'probably', 'problem', 'process',\n",
       "       'profile', 'program', 'programs', 'promotion', 'promotions',\n",
       "       'proper', 'purchase', 'purpoae', 'purposes', 'randomly', 'range',\n",
       "       'rarely', 'rather', 'rating', 'ratios', 'real', 'realize',\n",
       "       'really', 'reason', 'rebooted', 'rebooting', 'recommend',\n",
       "       'recover', 'redeem', 'register', 'regularly', 'reinstalled',\n",
       "       'released', 'reloading', 'remember', 'removed', 'rent', 'rental',\n",
       "       'repeat', 'repeatedly', 'reply', 'request', 'requested',\n",
       "       'requirement', 'requirements', 'requires', 'resolved', 'respond',\n",
       "       'responding', 'retailers', 'return', 'reward', 'rewards', 'rhe',\n",
       "       'right', 'row', 'sadly', 'safeway', 'said', 'save', 'saved',\n",
       "       'savings', 'say', 'saying', 'says', 'scam', 'scan', 'scanning',\n",
       "       'scene', 'scheme', 'screen', 'scroll', 'search', 'seats',\n",
       "       'seconds', 'see', 'seems', 'select', 'selecting', 'sells', 'sends',\n",
       "       'serious', 'service', 'session', 'set', 'settings', 'several',\n",
       "       'shell', 'ship', 'shop', 'shopping', 'show', 'showing', 'shows',\n",
       "       'shuts', 'sick', 'sign', 'signing', 'signs', 'simply', 'since',\n",
       "       'sitting', 'skeptical', 'sneaky', 'sobeys', 'soliciting',\n",
       "       'someone', 'something', 'space', 'special', 'spend', 'spending',\n",
       "       'spent', 'star', 'started', 'states', 'station', 'stay', 'still',\n",
       "       'stinks', 'stocard', 'stopped', 'store', 'stores', 'stupid',\n",
       "       'suddenly', 'suggested', 'support', 'supported', 'supposed',\n",
       "       'sure', 'symbols', 'system', 'tablet', 'take', 'takes', 'taking',\n",
       "       'tapped', 'taste', 'taxes', 'tell', 'terminal', 'terrible',\n",
       "       'thank', 'thanks', 'thats', 'thing', 'things', 'think', 'tho',\n",
       "       'though', 'thought', 'thus', 'time', 'times', 'today', 'told',\n",
       "       'took', 'total', 'totally', 'tough', 'toy', 'track', 'transaction',\n",
       "       'travel', 'tried', 'trip', 'try', 'twice', 'unable', 'understand',\n",
       "       'unfortunately', 'unhappy', 'uninstall', 'uninstalled',\n",
       "       'uninstalling', 'unusable', 'update', 'updated', 'updates',\n",
       "       'updating', 'upon', 'us', 'use', 'useable', 'used', 'useful',\n",
       "       'useless', 'user', 'users', 'uses', 'using', 'vacation', 'vendors',\n",
       "       'version', 'view', 'virtual', 'vs', 'wait', 'waiting', 'walk',\n",
       "       'want', 'waste', 'way', 'wayne', 'website', 'week', 'weeks',\n",
       "       'well', 'went', 'whether', 'whole', 'wifi', 'win', 'within',\n",
       "       'without', 'wonder', 'wondering', 'woohoo', 'work', 'worked',\n",
       "       'working', 'works', 'worse', 'worth', 'would', 'wrong', 'years',\n",
       "       'yes', 'yesterday', 'yet', 'youll'], dtype=object)"
      ]
     },
     "execution_count": 119,
     "metadata": {},
     "output_type": "execute_result"
    }
   ],
   "source": [
    "# Fit CountVectorizer\n",
    "bagofwords.fit(X_train['negative'])\n",
    "bagofwords.get_feature_names_out()"
   ]
  },
  {
   "cell_type": "code",
   "execution_count": 120,
   "id": "48c7d7bb",
   "metadata": {},
   "outputs": [],
   "source": [
    "#Transform train subset into matrix\n",
    "X_train_transformed = bagofwords.transform(X_train['negative'])\n",
    "#Transform test subset into matrix\n",
    "X_test_transformed = bagofwords.transform(X_test['negative']) "
   ]
  },
  {
   "cell_type": "code",
   "execution_count": 121,
   "id": "ef852b25",
   "metadata": {},
   "outputs": [
    {
     "data": {
      "text/plain": [
       "<70x660 sparse matrix of type '<class 'numpy.int64'>'\n",
       "\twith 1085 stored elements in Compressed Sparse Row format>"
      ]
     },
     "execution_count": 121,
     "metadata": {},
     "output_type": "execute_result"
    }
   ],
   "source": [
    "#check matrix metrics\n",
    "X_train_transformed"
   ]
  },
  {
   "cell_type": "markdown",
   "id": "645862da",
   "metadata": {},
   "source": [
    "Our sparse matrix contains 70 rows and 662 columns with word tokens."
   ]
  },
  {
   "cell_type": "markdown",
   "id": "596d62ac",
   "metadata": {},
   "source": [
    "We may look at the top 30 words and visualize the distribution of counts with bar plot"
   ]
  },
  {
   "cell_type": "code",
   "execution_count": 122,
   "id": "29ad37bf",
   "metadata": {
    "scrolled": false
   },
   "outputs": [
    {
     "data": {
      "image/png": "[encoded data removed]",
      "text/plain": [
       "<Figure size 1080x360 with 1 Axes>"
      ]
     },
     "metadata": {
      "needs_background": "light"
     },
     "output_type": "display_data"
    }
   ],
   "source": [
    "#create data frame out of sparse matrix\n",
    "word_counts = pd.DataFrame(\n",
    "    {\"counts\": X_train_transformed.toarray().sum(axis=0)},\n",
    "    index=bagofwords.get_feature_names_out()\n",
    ").sort_values(\"counts\", ascending=False)\n",
    "\n",
    "#perform bar plot\n",
    "word_counts.head(30).plot(kind=\"bar\", figsize=(15, 5), legend=False, color='#7ED9E7')\n",
    "plt.title(\"Top 30 most Frequently Occurring Words in Negative Reviews\")\n",
    "plt.ylabel(\"Count\")\n",
    "plt.xticks(rotation=45)\n",
    "plt.show()"
   ]
  },
  {
   "cell_type": "markdown",
   "id": "5bd0a2f1",
   "metadata": {},
   "source": [
    "According the plot the most friquen words in reviews are:\n",
    " - card\n",
    " - points\n",
    " - update\n",
    " - get\n",
    " - time"
   ]
  },
  {
   "cell_type": "markdown",
   "id": "f6a51cb7",
   "metadata": {},
   "source": [
    "We can conclude that the most important issues for users were related to the system of points, with application updates and with timing."
   ]
  },
  {
   "cell_type": "markdown",
   "id": "545a2aba",
   "metadata": {},
   "source": [
    "Users did not like to spend a lot of time for registration in the app and familiarisation with the app. The second important issue is that the users did not like or did not understand the system of points and rewards, moreover, they had problems with scoring their points. Also, there were issues with updates to the application. "
   ]
  },
  {
   "cell_type": "markdown",
   "id": "f6304d7b",
   "metadata": {},
   "source": [
    "All these conclusions we received with NLP of 101 reviews. Bigger datasets which are including thousands and millions of reviews allow us to get more precise data, but for the 24-hour hackathon use of such a big dataset is unsensible."
   ]
  }
 ],
 "metadata": {
  "kernelspec": {
   "display_name": "Python 3 (ipykernel)",
   "language": "python",
   "name": "python3"
  },
  "language_info": {
   "codemirror_mode": {
    "name": "ipython",
    "version": 3
   },
   "file_extension": ".py",
   "mimetype": "text/x-python",
   "name": "python",
   "nbconvert_exporter": "python",
   "pygments_lexer": "ipython3",
   "version": "3.7.3"
  }
 },
 "nbformat": 4,
 "nbformat_minor": 5
}
